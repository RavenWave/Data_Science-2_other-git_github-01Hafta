{
 "cells": [
  {
   "cell_type": "markdown",
   "metadata": {},
   "source": [
    "# **Advanced Git/GitHub'ın önemli kavramları**"
   ]
  },
  {
   "cell_type": "markdown",
   "metadata": {},
   "source": [
    "`.gitignore` --> Git'in takip etmesini istemediğimiz dosyaları belirttiğimiz komuttur. Hassas dosyalarımızda kullanırız. Veya önemli/büyük boyutlu dosyaları olur\n",
    "\n",
    "`Branch`     --> Dal demektir. Projenin bir ana Branch'i vardır. Bir de bu ana Branch'den ayrılan çeşitli Branch'ler olabilir. [Ana Branch genelde 'master' ya da 'main' isminde olur]\n",
    "\n",
    "`Merge`      --> Merge ile biz Branch'ları birleştiririz.\n",
    "    "
   ]
  },
  {
   "cell_type": "markdown",
   "metadata": {},
   "source": []
  }
 ],
 "metadata": {
  "kernelspec": {
   "display_name": "Python 3",
   "language": "python",
   "name": "python3"
  },
  "language_info": {
   "name": "python",
   "version": "3.9.13"
  }
 },
 "nbformat": 4,
 "nbformat_minor": 2
}
